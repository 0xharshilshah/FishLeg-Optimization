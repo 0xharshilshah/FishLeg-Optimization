{
 "cells": [
  {
   "cell_type": "markdown",
   "metadata": {},
   "source": [
    "### Imports"
   ]
  },
  {
   "cell_type": "code",
   "execution_count": 2,
   "metadata": {},
   "outputs": [],
   "source": [
    "import torch\n",
    "import torch.nn as nn\n",
    "import numpy as np\n",
    "from tqdm import tqdm\n",
    "\n",
    "import time\n",
    "import os\n",
    "import sys\n",
    "import matplotlib.pyplot as plt\n",
    "import torch.optim as optim\n",
    "from datetime import datetime\n",
    "from torch.utils.tensorboard import SummaryWriter\n",
    "torch.set_default_dtype(torch.float32)\n",
    "sys.path.append(\"..\")\n",
    "\n",
    "from utils.data_utils import read_data_sets\n",
    "from optim.FishLeg import FISH_LIKELIHOODS\n",
    "os.environ[\"CUDA_VISIBLE_DEVICES\"] = \"1\"\n",
    "\n",
    "torch.backends.cudnn.benchmark = False\n",
    "torch.backends.cudnn.deterministic = True"
   ]
  },
  {
   "cell_type": "markdown",
   "metadata": {},
   "source": [
    "### Device"
   ]
  },
  {
   "cell_type": "code",
   "execution_count": 3,
   "metadata": {},
   "outputs": [
    {
     "name": "stdout",
     "output_type": "stream",
     "text": [
      "cpu\n"
     ]
    }
   ],
   "source": [
    "device = torch.device(\"cuda\" if torch.cuda.is_available() else \"cpu\")\n",
    "print(device)"
   ]
  },
  {
   "cell_type": "markdown",
   "metadata": {},
   "source": [
    "### MNIST Dataset"
   ]
  },
  {
   "cell_type": "code",
   "execution_count": 4,
   "metadata": {},
   "outputs": [
    {
     "name": "stdout",
     "output_type": "stream",
     "text": [
      "Begin loading data for MNIST\n",
      "Data read from ./data/data\\MNIST_data\\train-images-idx3-ubyte.gz\n",
      "Extracting ./data/data\\MNIST_data\\train-images-idx3-ubyte.gz\n",
      "Extracting ./data/data\\MNIST_data\\t10k-images-idx3-ubyte.gz\n",
      "Data read from ./data/data\\MNIST_data\\train-labels-idx1-ubyte.gz\n",
      "Extracting ./data/data\\MNIST_data\\train-labels-idx1-ubyte.gz\n",
      "Extracting ./data/data\\MNIST_data\\t10k-labels-idx1-ubyte.gz\n",
      "Succesfully loaded MNIST dataset.\n"
     ]
    }
   ],
   "source": [
    "\n",
    "dataset = read_data_sets(\"MNIST\", \"./data/\", if_autoencoder=True)\n",
    "\n",
    "train_dataset = dataset.train\n",
    "test_dataset = dataset.test"
   ]
  },
  {
   "cell_type": "markdown",
   "metadata": {},
   "source": [
    "#### Data Preparation"
   ]
  },
  {
   "cell_type": "code",
   "execution_count": 5,
   "metadata": {},
   "outputs": [],
   "source": [
    "batch_size = 100\n",
    "\n",
    "# For training θ \n",
    "train_loader = torch.utils.data.DataLoader(train_dataset, batch_size=batch_size, shuffle=True)\n",
    " \n",
    "# For training λ (auxiliary parameter)\n",
    "aux_loader = torch.utils.data.DataLoader(train_dataset, shuffle=True, batch_size=batch_size)\n",
    "\n",
    "# for testing\n",
    "test_loader = torch.utils.data.DataLoader(test_dataset, batch_size=1000, shuffle=False)"
   ]
  },
  {
   "cell_type": "markdown",
   "metadata": {},
   "source": [
    "### NN"
   ]
  },
  {
   "cell_type": "code",
   "execution_count": 6,
   "metadata": {},
   "outputs": [],
   "source": [
    "model = nn.Sequential(\n",
    "    nn.Linear(784, 1000, dtype=torch.float32),\n",
    "    nn.ReLU(),\n",
    "    nn.Linear(1000, 500, dtype=torch.float32),\n",
    "    nn.ReLU(),\n",
    "    nn.Linear(500, 250, dtype=torch.float32),\n",
    "    nn.ReLU(),\n",
    "    nn.Linear(250, 30, dtype=torch.float32),\n",
    "    nn.Linear(30, 250, dtype=torch.float32),\n",
    "    nn.ReLU(),\n",
    "    nn.Linear(250, 500, dtype=torch.float32),\n",
    "    nn.ReLU(),\n",
    "    nn.Linear(500, 1000, dtype=torch.float32),\n",
    "    nn.ReLU(),\n",
    "    nn.Linear(1000, 784, dtype=torch.float32),\n",
    ")\n",
    "\n",
    "model = model.to(device)"
   ]
  },
  {
   "cell_type": "markdown",
   "metadata": {},
   "source": [
    "### Loss"
   ]
  },
  {
   "cell_type": "code",
   "execution_count": 7,
   "metadata": {},
   "outputs": [],
   "source": [
    "likelihood = FISH_LIKELIHOODS[\"bernoulli\"](device=device)"
   ]
  },
  {
   "cell_type": "markdown",
   "metadata": {},
   "source": [
    "## RMSProp"
   ]
  },
  {
   "cell_type": "markdown",
   "metadata": {},
   "source": [
    "#### Optimizer"
   ]
  },
  {
   "cell_type": "code",
   "execution_count": 8,
   "metadata": {},
   "outputs": [],
   "source": [
    "lr = 0.001\n",
    "alpha=0.99\n",
    "weight_decay = 1e-5\n",
    "eps=1e-08\n",
    "\n",
    "\n",
    "opt = optim.RMSprop(model.parameters(), lr=0.001, alpha=0.99, eps=1e-08, weight_decay=0, momentum=0, centered=False)\n",
    "\n"
   ]
  },
  {
   "cell_type": "markdown",
   "metadata": {},
   "source": [
    "### Training"
   ]
  },
  {
   "cell_type": "code",
   "execution_count": 9,
   "metadata": {},
   "outputs": [
    {
     "name": "stderr",
     "output_type": "stream",
     "text": [
      "Epoch 1: 100%|██████████| 600/600 [00:19<00:00, 30.83batch/s, loss=133, test_loss=149]\n",
      "Epoch 2: 100%|██████████| 600/600 [00:22<00:00, 26.15batch/s, loss=114, test_loss=124]\n",
      "Epoch 3: 100%|██████████| 600/600 [00:23<00:00, 25.26batch/s, loss=105, test_loss=118]\n",
      "Epoch 4: 100%|██████████| 600/600 [00:22<00:00, 27.11batch/s, loss=101, test_loss=111]\n",
      "Epoch 5: 100%|██████████| 600/600 [00:23<00:00, 25.19batch/s, loss=94.5, test_loss=106]\n",
      "Epoch 6: 100%|██████████| 600/600 [00:22<00:00, 26.32batch/s, loss=91.5, test_loss=99.7]\n",
      "Epoch 7: 100%|██████████| 600/600 [00:23<00:00, 25.89batch/s, loss=83.4, test_loss=98.2]\n",
      "Epoch 8: 100%|██████████| 600/600 [00:20<00:00, 29.24batch/s, loss=89, test_loss=101]   \n",
      "Epoch 9: 100%|██████████| 600/600 [00:20<00:00, 29.42batch/s, loss=87.1, test_loss=95.4]\n",
      "Epoch 10: 100%|██████████| 600/600 [00:20<00:00, 28.72batch/s, loss=88.5, test_loss=94.8]\n",
      "Epoch 11: 100%|██████████| 600/600 [00:22<00:00, 26.52batch/s, loss=87.6, test_loss=96.2]\n",
      "Epoch 12: 100%|██████████| 600/600 [00:23<00:00, 26.01batch/s, loss=82.3, test_loss=90.4]\n",
      "Epoch 13: 100%|██████████| 600/600 [00:23<00:00, 25.35batch/s, loss=75.6, test_loss=88.5]\n",
      "Epoch 14: 100%|██████████| 600/600 [00:25<00:00, 23.13batch/s, loss=83.8, test_loss=90.6]\n",
      "Epoch 15: 100%|██████████| 600/600 [00:26<00:00, 22.74batch/s, loss=80, test_loss=87.3]  \n",
      "Epoch 16: 100%|██████████| 600/600 [00:26<00:00, 22.59batch/s, loss=79.4, test_loss=88.6]\n",
      "Epoch 17: 100%|██████████| 600/600 [00:25<00:00, 23.21batch/s, loss=79.9, test_loss=87]  \n",
      "Epoch 18: 100%|██████████| 600/600 [00:26<00:00, 22.49batch/s, loss=70.6, test_loss=86.1]\n",
      "Epoch 19: 100%|██████████| 600/600 [00:30<00:00, 19.52batch/s, loss=75.2, test_loss=84.8]\n",
      "Epoch 20: 100%|██████████| 600/600 [00:27<00:00, 21.75batch/s, loss=74.2, test_loss=83.9]\n",
      "Epoch 21: 100%|██████████| 600/600 [00:26<00:00, 22.96batch/s, loss=75.7, test_loss=85.1]\n",
      "Epoch 22: 100%|██████████| 600/600 [00:26<00:00, 22.68batch/s, loss=71.3, test_loss=83.7]\n",
      "Epoch 23: 100%|██████████| 600/600 [00:26<00:00, 22.77batch/s, loss=74.5, test_loss=84]  \n",
      "Epoch 24: 100%|██████████| 600/600 [00:25<00:00, 23.12batch/s, loss=68.3, test_loss=82.8]\n",
      "Epoch 25: 100%|██████████| 600/600 [00:25<00:00, 23.47batch/s, loss=73.2, test_loss=83.5]\n",
      "Epoch 26: 100%|██████████| 600/600 [00:26<00:00, 22.71batch/s, loss=72.7, test_loss=82.3]\n",
      "Epoch 27: 100%|██████████| 600/600 [00:25<00:00, 23.52batch/s, loss=74.9, test_loss=82.3]\n",
      "Epoch 28: 100%|██████████| 600/600 [00:43<00:00, 13.92batch/s, loss=68.8, test_loss=81.9]\n",
      "Epoch 29: 100%|██████████| 600/600 [01:00<00:00,  9.98batch/s, loss=69.1, test_loss=83.7]\n",
      "Epoch 30: 100%|██████████| 600/600 [00:49<00:00, 12.21batch/s, loss=70.3, test_loss=81.7]\n",
      "Epoch 31: 100%|██████████| 600/600 [01:00<00:00, 10.00batch/s, loss=68.2, test_loss=81.5]\n",
      "Epoch 32: 100%|██████████| 600/600 [01:00<00:00,  9.98batch/s, loss=70.3, test_loss=82.5]\n",
      "Epoch 33: 100%|██████████| 600/600 [00:35<00:00, 16.96batch/s, loss=68.7, test_loss=81.6]\n",
      "Epoch 34: 100%|██████████| 600/600 [00:26<00:00, 22.94batch/s, loss=64.7, test_loss=81.1]\n",
      "Epoch 35: 100%|██████████| 600/600 [00:26<00:00, 22.58batch/s, loss=66.4, test_loss=81.1]\n",
      "Epoch 36: 100%|██████████| 600/600 [00:26<00:00, 22.78batch/s, loss=66, test_loss=81.3]  \n",
      "Epoch 37: 100%|██████████| 600/600 [00:26<00:00, 22.77batch/s, loss=66.8, test_loss=81.5]\n",
      "Epoch 38: 100%|██████████| 600/600 [00:26<00:00, 22.70batch/s, loss=66.6, test_loss=82.6]\n",
      "Epoch 39: 100%|██████████| 600/600 [00:33<00:00, 17.83batch/s, loss=66.6, test_loss=80.9]\n",
      "Epoch 40: 100%|██████████| 600/600 [00:58<00:00, 10.26batch/s, loss=65.8, test_loss=80.8]\n",
      "Epoch 41: 100%|██████████| 600/600 [00:58<00:00, 10.27batch/s, loss=71.1, test_loss=83.1]\n",
      "Epoch 42: 100%|██████████| 600/600 [00:58<00:00, 10.25batch/s, loss=68.4, test_loss=81.4]\n",
      "Epoch 43: 100%|██████████| 600/600 [00:51<00:00, 11.68batch/s, loss=68.2, test_loss=81.5]\n",
      "Epoch 44: 100%|██████████| 600/600 [00:58<00:00, 10.28batch/s, loss=68.9, test_loss=80.2]\n",
      "Epoch 45: 100%|██████████| 600/600 [00:52<00:00, 11.45batch/s, loss=64.2, test_loss=80.3]\n",
      "Epoch 46: 100%|██████████| 600/600 [00:22<00:00, 26.22batch/s, loss=64.2, test_loss=80]  \n",
      "Epoch 47: 100%|██████████| 600/600 [00:22<00:00, 26.18batch/s, loss=65.6, test_loss=80.1]\n",
      "Epoch 48: 100%|██████████| 600/600 [00:22<00:00, 26.18batch/s, loss=66.4, test_loss=81.2]\n",
      "Epoch 49: 100%|██████████| 600/600 [00:23<00:00, 25.05batch/s, loss=66.7, test_loss=80.5]\n",
      "Epoch 50: 100%|██████████| 600/600 [00:35<00:00, 16.85batch/s, loss=66, test_loss=80.8]  \n",
      "Epoch 51: 100%|██████████| 600/600 [00:59<00:00, 10.00batch/s, loss=66.3, test_loss=81]  \n",
      "Epoch 52: 100%|██████████| 600/600 [00:59<00:00, 10.00batch/s, loss=66.8, test_loss=80.7]\n",
      "Epoch 53: 100%|██████████| 600/600 [01:00<00:00,  9.98batch/s, loss=65.9, test_loss=81.8]\n",
      "Epoch 54: 100%|██████████| 600/600 [01:00<00:00,  9.99batch/s, loss=65.8, test_loss=81.1]\n",
      "Epoch 55: 100%|██████████| 600/600 [01:00<00:00,  9.85batch/s, loss=66.2, test_loss=79.8]\n",
      "Epoch 56: 100%|██████████| 600/600 [00:59<00:00, 10.03batch/s, loss=66, test_loss=81.6]  \n",
      "Epoch 57: 100%|██████████| 600/600 [01:00<00:00,  9.93batch/s, loss=64.3, test_loss=79.8]\n",
      "Epoch 58: 100%|██████████| 600/600 [00:59<00:00, 10.02batch/s, loss=65.3, test_loss=81]  \n",
      "Epoch 59: 100%|██████████| 600/600 [00:51<00:00, 11.73batch/s, loss=66.2, test_loss=80.9]\n",
      "Epoch 60: 100%|██████████| 600/600 [00:59<00:00, 10.03batch/s, loss=63.9, test_loss=80.3]\n",
      "Epoch 61: 100%|██████████| 600/600 [00:59<00:00, 10.06batch/s, loss=64, test_loss=80.2]  \n",
      "Epoch 62: 100%|██████████| 600/600 [01:00<00:00, 10.00batch/s, loss=69.4, test_loss=82]  \n",
      "Epoch 63: 100%|██████████| 600/600 [00:36<00:00, 16.59batch/s, loss=65.5, test_loss=81.9]\n",
      "Epoch 64: 100%|██████████| 600/600 [00:24<00:00, 24.10batch/s, loss=66.6, test_loss=81.1]\n",
      "Epoch 65: 100%|██████████| 600/600 [00:25<00:00, 23.76batch/s, loss=61.7, test_loss=80.3]\n",
      "Epoch 66: 100%|██████████| 600/600 [00:25<00:00, 23.69batch/s, loss=65.7, test_loss=81.1]\n",
      "Epoch 67: 100%|██████████| 600/600 [00:25<00:00, 23.78batch/s, loss=63, test_loss=81.3]  \n",
      "Epoch 68: 100%|██████████| 600/600 [00:44<00:00, 13.48batch/s, loss=64.4, test_loss=80.3]\n",
      "Epoch 69: 100%|██████████| 600/600 [00:59<00:00, 10.03batch/s, loss=64.4, test_loss=81.9]\n",
      "Epoch 70: 100%|██████████| 600/600 [00:53<00:00, 11.23batch/s, loss=64.5, test_loss=80.8]\n",
      "Epoch 71: 100%|██████████| 600/600 [00:28<00:00, 21.20batch/s, loss=63.9, test_loss=80.3]\n",
      "Epoch 72: 100%|██████████| 600/600 [00:24<00:00, 24.52batch/s, loss=62.2, test_loss=80]  \n",
      "Epoch 73: 100%|██████████| 600/600 [00:26<00:00, 22.72batch/s, loss=67.3, test_loss=81.4]\n",
      "Epoch 74: 100%|██████████| 600/600 [00:26<00:00, 22.74batch/s, loss=64.8, test_loss=81.6]\n",
      "Epoch 75: 100%|██████████| 600/600 [00:25<00:00, 23.68batch/s, loss=64.1, test_loss=81.1]\n",
      "Epoch 76: 100%|██████████| 600/600 [00:25<00:00, 23.95batch/s, loss=64, test_loss=80.6]  \n",
      "Epoch 77: 100%|██████████| 600/600 [00:24<00:00, 24.05batch/s, loss=64.6, test_loss=80.3]\n",
      "Epoch 78: 100%|██████████| 600/600 [00:26<00:00, 23.03batch/s, loss=64.4, test_loss=80.5]\n",
      "Epoch 79: 100%|██████████| 600/600 [00:24<00:00, 24.03batch/s, loss=62.5, test_loss=79.9]\n",
      "Epoch 80: 100%|██████████| 600/600 [00:25<00:00, 23.96batch/s, loss=62.7, test_loss=80.5]\n",
      "Epoch 81: 100%|██████████| 600/600 [00:25<00:00, 23.80batch/s, loss=61.4, test_loss=80.3]\n",
      "Epoch 82: 100%|██████████| 600/600 [04:28<00:00,  2.23batch/s, loss=62, test_loss=80.6]  \n",
      "Epoch 83: 100%|██████████| 600/600 [00:24<00:00, 24.49batch/s, loss=58.3, test_loss=80]  \n",
      "Epoch 84: 100%|██████████| 600/600 [00:24<00:00, 24.87batch/s, loss=60.6, test_loss=79.7]\n",
      "Epoch 85: 100%|██████████| 600/600 [00:24<00:00, 24.75batch/s, loss=62.7, test_loss=80.8]\n",
      "Epoch 86: 100%|██████████| 600/600 [00:24<00:00, 24.97batch/s, loss=62.1, test_loss=80.6]\n",
      "Epoch 87: 100%|██████████| 600/600 [00:28<00:00, 20.87batch/s, loss=66.3, test_loss=80.2]\n",
      "Epoch 88: 100%|██████████| 600/600 [00:32<00:00, 18.73batch/s, loss=66, test_loss=81.7]  \n",
      "Epoch 89: 100%|██████████| 600/600 [00:32<00:00, 18.65batch/s, loss=67.6, test_loss=82.3]\n",
      "Epoch 90: 100%|██████████| 600/600 [00:32<00:00, 18.58batch/s, loss=63.6, test_loss=80.3]\n",
      "Epoch 91: 100%|██████████| 600/600 [00:32<00:00, 18.45batch/s, loss=62.4, test_loss=80.6]\n",
      "Epoch 92: 100%|██████████| 600/600 [00:32<00:00, 18.26batch/s, loss=63.1, test_loss=80.9]\n",
      "Epoch 93: 100%|██████████| 600/600 [03:20<00:00,  2.99batch/s, loss=65.1, test_loss=81]    \n",
      "Epoch 94: 100%|██████████| 600/600 [00:25<00:00, 23.87batch/s, loss=68.7, test_loss=81.5]\n",
      "Epoch 95: 100%|██████████| 600/600 [00:24<00:00, 24.04batch/s, loss=65.6, test_loss=80.6]\n",
      "Epoch 96: 100%|██████████| 600/600 [00:24<00:00, 24.15batch/s, loss=64.5, test_loss=81.2]\n",
      "Epoch 97: 100%|██████████| 600/600 [00:24<00:00, 24.06batch/s, loss=64.5, test_loss=80.8]\n",
      "Epoch 98: 100%|██████████| 600/600 [00:24<00:00, 24.11batch/s, loss=66.1, test_loss=83.1]\n",
      "Epoch 99: 100%|██████████| 600/600 [00:24<00:00, 24.00batch/s, loss=60.6, test_loss=80]  \n",
      "Epoch 100: 100%|██████████| 600/600 [00:25<00:00, 23.85batch/s, loss=62.3, test_loss=80.5]\n"
     ]
    }
   ],
   "source": [
    "epochs = 100\n",
    "\n",
    "st = time.time()\n",
    "eval_time = 0\n",
    "\n",
    "training_loss_RMSProp= []\n",
    "testing_loss_RMSProp = []\n",
    "\n",
    "for epoch in range(1, epochs + 1):\n",
    "    with tqdm(train_loader, unit=\"batch\") as tepoch:\n",
    "        running_loss = 0\n",
    "        for n, (batch_data, batch_labels) in enumerate(tepoch, start=1):\n",
    "            tepoch.set_description(f\"Epoch {epoch}\")\n",
    "\n",
    "            batch_data, batch_labels = batch_data.to(device), batch_labels.to(device)\n",
    "\n",
    "            opt.zero_grad()\n",
    "            output = model(batch_data)\n",
    "\n",
    "            loss = likelihood(output, batch_labels)\n",
    "\n",
    "            running_loss += loss.item()\n",
    "\n",
    "            loss.backward()\n",
    "            opt.step()\n",
    "\n",
    "            et = time.time()\n",
    "            if n % 50 == 0:\n",
    "                model.eval()\n",
    "\n",
    "                running_test_loss = 0\n",
    "\n",
    "                for m, (test_batch_data, test_batch_labels) in enumerate(test_loader):\n",
    "                    test_batch_data, test_batch_labels = test_batch_data.to(device), test_batch_labels.to(device)\n",
    "\n",
    "                    test_output = model(test_batch_data)\n",
    "\n",
    "                    test_loss = likelihood(test_output, test_batch_labels)\n",
    "\n",
    "                    running_test_loss += test_loss.item()\n",
    "\n",
    "                running_test_loss /= m\n",
    "\n",
    "                tepoch.set_postfix(loss=loss.item(), test_loss=running_test_loss)\n",
    "                model.train()\n",
    "                eval_time += time.time() - et\n",
    "\n",
    "        epoch_time = time.time() - st - eval_time\n",
    "        tepoch.set_postfix(loss=running_loss / n, test_loss=running_test_loss, epoch_time=epoch_time)\n",
    "\n",
    "        training_loss_RMSProp.append(running_loss / n)\n",
    "        testing_loss_RMSProp.append(running_test_loss)\n"
   ]
  },
  {
   "cell_type": "markdown",
   "metadata": {},
   "source": [
    "### Results"
   ]
  },
  {
   "cell_type": "code",
   "execution_count": 13,
   "metadata": {},
   "outputs": [
    {
     "data": {
      "image/png": "[encoded data removed]",
      "text/plain": [
       "<Figure size 1000x500 with 2 Axes>"
      ]
     },
     "metadata": {},
     "output_type": "display_data"
    }
   ],
   "source": [
    "import json\n",
    "import matplotlib.pyplot as plt\n",
    "\n",
    "data_dict = {\n",
    "    \"training_loss_RMSProp\": training_loss_RMSProp,\n",
    "    \"testing_loss_RMSProp\": testing_loss_RMSProp\n",
    "}\n",
    "\n",
    "with open('loss_data_RMSProp.json', 'w') as f:\n",
    "    json.dump(data_dict, f)\n",
    "\n",
    "with open('loss_data_RMSProp.json', 'r') as f:\n",
    "    loaded_data = json.load(f)\n",
    "\n",
    "# Plot the data\n",
    "plt.figure(figsize=(10, 5))\n",
    "\n",
    "# Plot training loss\n",
    "plt.subplot(1, 2, 1)\n",
    "plt.plot(loaded_data['training_loss_RMSProp'], label='Training Loss')\n",
    "plt.title('Training Loss')\n",
    "plt.xlabel('Epoch')\n",
    "plt.ylabel('Loss')\n",
    "plt.legend()\n",
    "\n",
    "# Plot testing loss\n",
    "plt.subplot(1, 2, 2)\n",
    "plt.plot(loaded_data['testing_loss_RMSProp'], label='Testing Loss', color='red')\n",
    "plt.title('Testing Loss')\n",
    "plt.xlabel('Epoch')\n",
    "plt.ylabel('Loss')\n",
    "plt.legend()\n",
    "\n",
    "# Show plots\n",
    "plt.tight_layout()\n",
    "plt.show()\n"
   ]
  },
  {
   "cell_type": "code",
   "execution_count": null,
   "metadata": {},
   "outputs": [],
   "source": []
  }
 ],
 "metadata": {
  "kernelspec": {
   "display_name": ".NLP_venv",
   "language": "python",
   "name": "python3"
  },
  "language_info": {
   "codemirror_mode": {
    "name": "ipython",
    "version": 3
   },
   "file_extension": ".py",
   "mimetype": "text/x-python",
   "name": "python",
   "nbconvert_exporter": "python",
   "pygments_lexer": "ipython3",
   "version": "3.11.6"
  }
 },
 "nbformat": 4,
 "nbformat_minor": 2
}
