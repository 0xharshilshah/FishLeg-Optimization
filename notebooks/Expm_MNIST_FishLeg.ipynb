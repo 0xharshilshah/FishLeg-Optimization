{
 "cells": [
  {
   "cell_type": "markdown",
   "metadata": {},
   "source": [
    "### Imports"
   ]
  },
  {
   "cell_type": "code",
   "execution_count": 15,
   "metadata": {},
   "outputs": [],
   "source": [
    "import torch\n",
    "import torch.nn as nn\n",
    "import numpy as np\n",
    "from tqdm import tqdm\n",
    "\n",
    "import time\n",
    "import os\n",
    "import sys\n",
    "import matplotlib.pyplot as plt\n",
    "import torch.optim as optim\n",
    "from datetime import datetime\n",
    "from torch.utils.tensorboard import SummaryWriter\n",
    "torch.set_default_dtype(torch.float32)\n",
    "sys.path.append(\"..\")\n",
    "\n",
    "from utils.data_utils import read_data_sets\n",
    "from optim.FishLeg import FishLeg, FISH_LIKELIHOODS, initialise_FishModel\n",
    "os.environ[\"CUDA_VISIBLE_DEVICES\"] = \"1\"\n",
    "\n",
    "torch.backends.cudnn.benchmark = False\n",
    "torch.backends.cudnn.deterministic = True"
   ]
  },
  {
   "cell_type": "markdown",
   "metadata": {},
   "source": [
    "### Device"
   ]
  },
  {
   "cell_type": "code",
   "execution_count": 2,
   "metadata": {},
   "outputs": [
    {
     "name": "stdout",
     "output_type": "stream",
     "text": [
      "cpu\n"
     ]
    }
   ],
   "source": [
    "device = torch.device(\"cuda\" if torch.cuda.is_available() else \"cpu\")\n",
    "print(device)"
   ]
  },
  {
   "cell_type": "markdown",
   "metadata": {},
   "source": [
    "### MNIST Dataset"
   ]
  },
  {
   "cell_type": "code",
   "execution_count": 3,
   "metadata": {},
   "outputs": [
    {
     "name": "stdout",
     "output_type": "stream",
     "text": [
      "Begin loading data for MNIST\n",
      "Data read from ./data/data/MNIST_data/train-images-idx3-ubyte.gz\n",
      "Extracting ./data/data/MNIST_data/train-images-idx3-ubyte.gz\n",
      "Extracting ./data/data/MNIST_data/t10k-images-idx3-ubyte.gz\n",
      "Data read from ./data/data/MNIST_data/train-labels-idx1-ubyte.gz\n",
      "Extracting ./data/data/MNIST_data/train-labels-idx1-ubyte.gz\n"
     ]
    },
    {
     "name": "stdout",
     "output_type": "stream",
     "text": [
      "Extracting ./data/data/MNIST_data/t10k-labels-idx1-ubyte.gz\n",
      "Succesfully loaded MNIST dataset.\n"
     ]
    }
   ],
   "source": [
    "\n",
    "dataset = read_data_sets(\"MNIST\", \"./data/\", if_autoencoder=True)\n",
    "\n",
    "train_dataset = dataset.train\n",
    "test_dataset = dataset.test"
   ]
  },
  {
   "cell_type": "markdown",
   "metadata": {},
   "source": [
    "#### Data Preparation"
   ]
  },
  {
   "cell_type": "code",
   "execution_count": 5,
   "metadata": {},
   "outputs": [],
   "source": [
    "batch_size = 100\n",
    "\n",
    "# For training θ \n",
    "train_loader = torch.utils.data.DataLoader(\n",
    "    train_dataset,\n",
    "    batch_size=batch_size,\n",
    "    shuffle=True,\n",
    "    collate_fn=lambda x: tuple(x_.to(device) for x_ in default_collate(x)),\n",
    ")\n",
    "\n",
    "# For training λ (auxiliary parameter)\n",
    "aux_loader = torch.utils.data.DataLoader(\n",
    "    train_dataset,\n",
    "    shuffle=True,\n",
    "    batch_size=batch_size,\n",
    "    collate_fn=lambda x: tuple(x_.to(device) for x_ in default_collate(x)),\n",
    ")\n",
    "\n",
    "# for testing\n",
    "test_loader = torch.utils.data.DataLoader(\n",
    "    test_dataset,\n",
    "    batch_size=1000,\n",
    "    shuffle=False,\n",
    "    collate_fn=lambda x: tuple(x_.to(device) for x_ in default_collate(x)),\n",
    ")"
   ]
  },
  {
   "cell_type": "markdown",
   "metadata": {},
   "source": [
    "### NN"
   ]
  },
  {
   "cell_type": "code",
   "execution_count": 6,
   "metadata": {},
   "outputs": [],
   "source": [
    "model = nn.Sequential(\n",
    "    nn.Linear(784, 1000, dtype=torch.float32),\n",
    "    nn.ReLU(),\n",
    "    nn.Linear(1000, 500, dtype=torch.float32),\n",
    "    nn.ReLU(),\n",
    "    nn.Linear(500, 250, dtype=torch.float32),\n",
    "    nn.ReLU(),\n",
    "    nn.Linear(250, 30, dtype=torch.float32),\n",
    "    nn.Linear(30, 250, dtype=torch.float32),\n",
    "    nn.ReLU(),\n",
    "    nn.Linear(250, 500, dtype=torch.float32),\n",
    "    nn.ReLU(),\n",
    "    nn.Linear(500, 1000, dtype=torch.float32),\n",
    "    nn.ReLU(),\n",
    "    nn.Linear(1000, 784, dtype=torch.float32),\n",
    ")\n",
    "\n",
    "model = model.to(device)"
   ]
  },
  {
   "cell_type": "markdown",
   "metadata": {},
   "source": [
    "### Loss"
   ]
  },
  {
   "cell_type": "code",
   "execution_count": 7,
   "metadata": {},
   "outputs": [],
   "source": [
    "likelihood = FISH_LIKELIHOODS[\"bernoulli\"](device=device)"
   ]
  },
  {
   "cell_type": "markdown",
   "metadata": {},
   "source": [
    "## FishLeg"
   ]
  },
  {
   "cell_type": "markdown",
   "metadata": {},
   "source": [
    "#### Optimizer"
   ]
  },
  {
   "cell_type": "markdown",
   "metadata": {},
   "source": [
    "##### Params"
   ]
  },
  {
   "cell_type": "code",
   "execution_count": 11,
   "metadata": {},
   "outputs": [],
   "source": [
    "eta_adam = 1e-4\n",
    "\n",
    "lr = 0.005\n",
    "beta = 0.9\n",
    "weight_decay = 1e-5\n",
    "\n",
    "aux_lr = 1e-4\n",
    "aux_eps = 1e-8\n",
    "scale_factor = 1\n",
    "damping = 0.1\n",
    "update_aux_every = 10\n",
    "\n",
    "initialization = \"normal\"\n",
    "normalization = True\n"
   ]
  },
  {
   "cell_type": "markdown",
   "metadata": {},
   "source": [
    "##### NN Reinitialization"
   ]
  },
  {
   "cell_type": "code",
   "execution_count": 12,
   "metadata": {},
   "outputs": [],
   "source": [
    "model = initialise_FishModel(\n",
    "    model, module_names=\"__ALL__\", fish_scale=scale_factor / damping\n",
    ")\n",
    "\n",
    "model = model.to(device)"
   ]
  },
  {
   "cell_type": "markdown",
   "metadata": {},
   "source": [
    "##### Writter"
   ]
  },
  {
   "cell_type": "code",
   "execution_count": 13,
   "metadata": {},
   "outputs": [],
   "source": [
    "\n",
    "writer = SummaryWriter(\n",
    "    log_dir=f\"runs/MNIST_fishleg/lr={lr}_auxlr={aux_lr}/{datetime.now().strftime('%Y%m%d-%H%M%S')}\",\n",
    ")"
   ]
  },
  {
   "cell_type": "code",
   "execution_count": 16,
   "metadata": {},
   "outputs": [],
   "source": [
    "opt = FishLeg(\n",
    "    model,\n",
    "    aux_loader,\n",
    "    likelihood,\n",
    "    lr=lr,\n",
    "    beta=beta,\n",
    "    weight_decay=weight_decay,\n",
    "    aux_lr=aux_lr,\n",
    "    aux_betas=(0.9, 0.999),\n",
    "    aux_eps=aux_eps,\n",
    "    damping=damping,\n",
    "    update_aux_every=update_aux_every,\n",
    "    writer=writer,\n",
    "    method=\"antithetic\",\n",
    "    method_kwargs={\"eps\": 1e-4},\n",
    "    precondition_aux=True,\n",
    ")"
   ]
  },
  {
   "cell_type": "markdown",
   "metadata": {},
   "source": [
    "### Training"
   ]
  },
  {
   "cell_type": "code",
   "execution_count": 18,
   "metadata": {},
   "outputs": [],
   "source": [
    "from torch.utils.data.dataloader import default_collate"
   ]
  },
  {
   "cell_type": "code",
   "execution_count": 20,
   "metadata": {},
   "outputs": [
    {
     "name": "stderr",
     "output_type": "stream",
     "text": [
      "Epoch 1: 100%|██████████| 600/600 [00:51<00:00, 11.56batch/s, loss=120, test_loss=126]\n",
      "Epoch 2: 100%|██████████| 600/600 [00:54<00:00, 10.93batch/s, loss=90.5, test_loss=99.7]\n",
      "Epoch 3: 100%|██████████| 600/600 [00:54<00:00, 10.96batch/s, loss=79, test_loss=88.2]  \n",
      "Epoch 4: 100%|██████████| 600/600 [00:54<00:00, 11.03batch/s, loss=77.6, test_loss=81.8]\n",
      "Epoch 5: 100%|██████████| 600/600 [00:54<00:00, 10.99batch/s, loss=71.1, test_loss=77.9]\n",
      "Epoch 6: 100%|██████████| 600/600 [00:53<00:00, 11.21batch/s, loss=67.1, test_loss=75]  \n",
      "Epoch 7: 100%|██████████| 600/600 [00:53<00:00, 11.16batch/s, loss=64.4, test_loss=73.2]\n",
      "Epoch 8: 100%|██████████| 600/600 [00:53<00:00, 11.15batch/s, loss=64, test_loss=71.5]  \n",
      "Epoch 9: 100%|██████████| 600/600 [00:55<00:00, 10.88batch/s, loss=62.6, test_loss=70.9]\n",
      "Epoch 10: 100%|██████████| 600/600 [00:54<00:00, 10.97batch/s, loss=62.4, test_loss=69.7]\n",
      "Epoch 11: 100%|██████████| 600/600 [00:54<00:00, 11.04batch/s, loss=63.6, test_loss=69.2]\n",
      "Epoch 12: 100%|██████████| 600/600 [00:54<00:00, 11.03batch/s, loss=60.3, test_loss=68.6]\n",
      "Epoch 13: 100%|██████████| 600/600 [00:53<00:00, 11.25batch/s, loss=61.1, test_loss=68.4]\n",
      "Epoch 14: 100%|██████████| 600/600 [00:54<00:00, 11.09batch/s, loss=57.4, test_loss=67.8]\n",
      "Epoch 15: 100%|██████████| 600/600 [00:53<00:00, 11.13batch/s, loss=60.4, test_loss=67.5]\n",
      "Epoch 16: 100%|██████████| 600/600 [00:54<00:00, 11.00batch/s, loss=58.8, test_loss=67.2]\n",
      "Epoch 17: 100%|██████████| 600/600 [00:53<00:00, 11.12batch/s, loss=58.4, test_loss=67.2]\n",
      "Epoch 18: 100%|██████████| 600/600 [00:53<00:00, 11.19batch/s, loss=57.4, test_loss=66.7]\n",
      "Epoch 19: 100%|██████████| 600/600 [00:53<00:00, 11.15batch/s, loss=56.8, test_loss=66.7]\n",
      "Epoch 20: 100%|██████████| 600/600 [00:53<00:00, 11.12batch/s, loss=57.7, test_loss=66.7]\n",
      "Epoch 21: 100%|██████████| 600/600 [00:53<00:00, 11.18batch/s, loss=56.4, test_loss=66.4]\n",
      "Epoch 22: 100%|██████████| 600/600 [00:53<00:00, 11.12batch/s, loss=57.4, test_loss=66.2]\n",
      "Epoch 23: 100%|██████████| 600/600 [00:53<00:00, 11.18batch/s, loss=55.2, test_loss=66.1]\n",
      "Epoch 24: 100%|██████████| 600/600 [00:54<00:00, 11.07batch/s, loss=55.8, test_loss=66]  \n",
      "Epoch 25: 100%|██████████| 600/600 [00:53<00:00, 11.22batch/s, loss=58, test_loss=66]    \n",
      "Epoch 26: 100%|██████████| 600/600 [00:54<00:00, 11.10batch/s, loss=58, test_loss=65.7]  \n",
      "Epoch 27: 100%|██████████| 600/600 [00:55<00:00, 10.87batch/s, loss=54.3, test_loss=65.7]\n",
      "Epoch 28: 100%|██████████| 600/600 [00:54<00:00, 11.03batch/s, loss=54.4, test_loss=65.6]\n",
      "Epoch 29: 100%|██████████| 600/600 [00:54<00:00, 11.00batch/s, loss=55.8, test_loss=65.7]\n",
      "Epoch 30: 100%|██████████| 600/600 [00:54<00:00, 10.93batch/s, loss=57.5, test_loss=65.6]\n",
      "Epoch 31: 100%|██████████| 600/600 [00:55<00:00, 10.80batch/s, loss=58.7, test_loss=65.4]\n",
      "Epoch 32: 100%|██████████| 600/600 [00:54<00:00, 11.00batch/s, loss=60.1, test_loss=65.3]\n",
      "Epoch 33: 100%|██████████| 600/600 [00:54<00:00, 11.04batch/s, loss=53.9, test_loss=65.4]\n",
      "Epoch 34: 100%|██████████| 600/600 [00:54<00:00, 11.05batch/s, loss=54.6, test_loss=65.3]\n",
      "Epoch 35: 100%|██████████| 600/600 [00:53<00:00, 11.17batch/s, loss=53.7, test_loss=65.2]\n",
      "Epoch 36: 100%|██████████| 600/600 [00:54<00:00, 11.09batch/s, loss=56, test_loss=65.5]  \n",
      "Epoch 37: 100%|██████████| 600/600 [00:53<00:00, 11.20batch/s, loss=55.8, test_loss=65.2]\n",
      "Epoch 38: 100%|██████████| 600/600 [00:53<00:00, 11.15batch/s, loss=55.4, test_loss=65.2]\n",
      "Epoch 39: 100%|██████████| 600/600 [00:54<00:00, 10.92batch/s, loss=55.9, test_loss=65.2]\n",
      "Epoch 40: 100%|██████████| 600/600 [00:54<00:00, 10.93batch/s, loss=53, test_loss=65.4]  \n",
      "Epoch 41: 100%|██████████| 600/600 [00:54<00:00, 10.96batch/s, loss=56.3, test_loss=65.2]\n",
      "Epoch 42: 100%|██████████| 600/600 [00:54<00:00, 10.96batch/s, loss=54.2, test_loss=65.1]\n",
      "Epoch 43: 100%|██████████| 600/600 [00:54<00:00, 10.95batch/s, loss=54.9, test_loss=65.3]\n",
      "Epoch 44: 100%|██████████| 600/600 [00:54<00:00, 10.92batch/s, loss=55.5, test_loss=65.1]\n",
      "Epoch 45: 100%|██████████| 600/600 [00:55<00:00, 10.88batch/s, loss=55.2, test_loss=65.1]\n",
      "Epoch 46: 100%|██████████| 600/600 [00:54<00:00, 10.94batch/s, loss=54.7, test_loss=65]  \n",
      "Epoch 47: 100%|██████████| 600/600 [00:54<00:00, 11.08batch/s, loss=55, test_loss=65.1]  \n",
      "Epoch 48: 100%|██████████| 600/600 [00:53<00:00, 11.14batch/s, loss=54.6, test_loss=65.1]\n",
      "Epoch 49: 100%|██████████| 600/600 [00:53<00:00, 11.18batch/s, loss=54.9, test_loss=65.1]\n",
      "Epoch 50: 100%|██████████| 600/600 [00:53<00:00, 11.19batch/s, loss=54.2, test_loss=65]  \n",
      "Epoch 51: 100%|██████████| 600/600 [00:53<00:00, 11.17batch/s, loss=53, test_loss=65]    \n",
      "Epoch 52: 100%|██████████| 600/600 [00:53<00:00, 11.24batch/s, loss=53.1, test_loss=65]  \n",
      "Epoch 53: 100%|██████████| 600/600 [00:53<00:00, 11.16batch/s, loss=52.5, test_loss=64.9]\n",
      "Epoch 54: 100%|██████████| 600/600 [00:53<00:00, 11.19batch/s, loss=55.8, test_loss=64.9]\n",
      "Epoch 55: 100%|██████████| 600/600 [00:53<00:00, 11.19batch/s, loss=54, test_loss=65]    \n",
      "Epoch 56: 100%|██████████| 600/600 [00:53<00:00, 11.19batch/s, loss=51.6, test_loss=65.1]\n",
      "Epoch 57: 100%|██████████| 600/600 [00:53<00:00, 11.11batch/s, loss=53.3, test_loss=65]  \n",
      "Epoch 58: 100%|██████████| 600/600 [00:53<00:00, 11.13batch/s, loss=53.3, test_loss=65]  \n",
      "Epoch 59: 100%|██████████| 600/600 [00:53<00:00, 11.16batch/s, loss=53.4, test_loss=65]\n",
      "Epoch 60: 100%|██████████| 600/600 [00:54<00:00, 10.92batch/s, loss=52.2, test_loss=65]  \n",
      "Epoch 61: 100%|██████████| 600/600 [00:54<00:00, 10.96batch/s, loss=54, test_loss=65.1]  \n",
      "Epoch 62: 100%|██████████| 600/600 [00:54<00:00, 10.91batch/s, loss=54.6, test_loss=65]  \n",
      "Epoch 63: 100%|██████████| 600/600 [00:54<00:00, 10.92batch/s, loss=55.4, test_loss=65.1]\n",
      "Epoch 64: 100%|██████████| 600/600 [00:54<00:00, 10.99batch/s, loss=53.7, test_loss=65]  \n",
      "Epoch 65: 100%|██████████| 600/600 [00:54<00:00, 11.09batch/s, loss=53, test_loss=65.1]  \n",
      "Epoch 66: 100%|██████████| 600/600 [00:54<00:00, 11.10batch/s, loss=53.6, test_loss=65]  \n",
      "Epoch 67: 100%|██████████| 600/600 [00:54<00:00, 10.91batch/s, loss=51.3, test_loss=65.1]\n",
      "Epoch 68: 100%|██████████| 600/600 [00:55<00:00, 10.90batch/s, loss=54, test_loss=65.1]  \n",
      "Epoch 69: 100%|██████████| 600/600 [00:54<00:00, 11.02batch/s, loss=54.1, test_loss=65.1]\n",
      "Epoch 70: 100%|██████████| 600/600 [00:51<00:00, 11.72batch/s, loss=53.1, test_loss=65.1]\n",
      "Epoch 71: 100%|██████████| 600/600 [00:52<00:00, 11.33batch/s, loss=52.6, test_loss=65.2]\n",
      "Epoch 72: 100%|██████████| 600/600 [00:54<00:00, 11.03batch/s, loss=53.8, test_loss=65.2]\n",
      "Epoch 73: 100%|██████████| 600/600 [00:54<00:00, 11.06batch/s, loss=52.8, test_loss=65.2]\n",
      "Epoch 74: 100%|██████████| 600/600 [00:53<00:00, 11.13batch/s, loss=53, test_loss=65.1]  \n",
      "Epoch 75: 100%|██████████| 600/600 [00:53<00:00, 11.18batch/s, loss=51.3, test_loss=65.1]\n",
      "Epoch 76: 100%|██████████| 600/600 [00:53<00:00, 11.16batch/s, loss=54.2, test_loss=65.1]\n",
      "Epoch 77: 100%|██████████| 600/600 [00:54<00:00, 11.08batch/s, loss=52.3, test_loss=65.1]\n",
      "Epoch 78: 100%|██████████| 600/600 [00:54<00:00, 11.05batch/s, loss=55.5, test_loss=65.2]\n",
      "Epoch 79: 100%|██████████| 600/600 [00:54<00:00, 10.99batch/s, loss=51.3, test_loss=65.2]\n",
      "Epoch 80: 100%|██████████| 600/600 [00:53<00:00, 11.22batch/s, loss=53.7, test_loss=65.2]\n",
      "Epoch 81: 100%|██████████| 600/600 [00:54<00:00, 11.06batch/s, loss=55.3, test_loss=65.1]\n",
      "Epoch 82: 100%|██████████| 600/600 [00:54<00:00, 10.93batch/s, loss=51.6, test_loss=65.1]\n",
      "Epoch 83: 100%|██████████| 600/600 [00:54<00:00, 10.95batch/s, loss=52.3, test_loss=65.3]\n",
      "Epoch 84: 100%|██████████| 600/600 [00:55<00:00, 10.90batch/s, loss=51.3, test_loss=65.2]\n",
      "Epoch 85: 100%|██████████| 600/600 [00:53<00:00, 11.17batch/s, loss=54.5, test_loss=65.2]\n",
      "Epoch 86: 100%|██████████| 600/600 [00:53<00:00, 11.14batch/s, loss=52.6, test_loss=65.2]\n",
      "Epoch 87: 100%|██████████| 600/600 [00:54<00:00, 11.11batch/s, loss=54.3, test_loss=65.3]\n",
      "Epoch 88: 100%|██████████| 600/600 [00:54<00:00, 10.93batch/s, loss=54.2, test_loss=65.3]\n",
      "Epoch 89: 100%|██████████| 600/600 [00:54<00:00, 10.95batch/s, loss=54.5, test_loss=65.3]\n",
      "Epoch 90: 100%|██████████| 600/600 [00:54<00:00, 11.09batch/s, loss=53.5, test_loss=65.3]\n",
      "Epoch 91: 100%|██████████| 600/600 [00:53<00:00, 11.24batch/s, loss=52.2, test_loss=65.3]\n",
      "Epoch 92: 100%|██████████| 600/600 [00:53<00:00, 11.17batch/s, loss=53, test_loss=65.3]  \n",
      "Epoch 93: 100%|██████████| 600/600 [00:53<00:00, 11.17batch/s, loss=53.5, test_loss=65.5]\n",
      "Epoch 94: 100%|██████████| 600/600 [00:53<00:00, 11.21batch/s, loss=52.9, test_loss=65.4]\n",
      "Epoch 95: 100%|██████████| 600/600 [00:53<00:00, 11.18batch/s, loss=53, test_loss=65.5]  \n",
      "Epoch 96: 100%|██████████| 600/600 [00:54<00:00, 10.92batch/s, loss=52.3, test_loss=65.5]\n",
      "Epoch 97: 100%|██████████| 600/600 [00:55<00:00, 10.87batch/s, loss=52.1, test_loss=65.4]\n",
      "Epoch 98: 100%|██████████| 600/600 [00:55<00:00, 10.90batch/s, loss=53.3, test_loss=65.4]\n",
      "Epoch 99: 100%|██████████| 600/600 [00:55<00:00, 10.89batch/s, loss=54.7, test_loss=65.4]\n",
      "Epoch 100: 100%|██████████| 600/600 [00:54<00:00, 10.92batch/s, loss=52.1, test_loss=65.5]\n"
     ]
    }
   ],
   "source": [
    "epochs = 100\n",
    "\n",
    "st = time.time()\n",
    "eval_time = 0\n",
    "\n",
    "training_loss_FishLeg = []\n",
    "testing_loss_FishLeg = []\n",
    "\n",
    "for epoch in range(1, epochs + 1):\n",
    "    with tqdm(train_loader, unit=\"batch\") as tepoch:\n",
    "        running_loss = 0\n",
    "        for n, (batch_data, batch_labels) in enumerate(tepoch, start=1):\n",
    "            tepoch.set_description(f\"Epoch {epoch}\")\n",
    "\n",
    "            batch_data, batch_labels = batch_data.to(device), batch_labels.to(device)\n",
    "\n",
    "            opt.zero_grad()\n",
    "            output = model(batch_data)\n",
    "\n",
    "            loss = likelihood(output, batch_labels)\n",
    "\n",
    "            running_loss += loss.item()\n",
    "\n",
    "            loss.backward()\n",
    "            opt.step()\n",
    "\n",
    "            et = time.time()\n",
    "            if n % 50 == 0:\n",
    "                model.eval()\n",
    "\n",
    "                running_test_loss = 0\n",
    "\n",
    "                for m, (test_batch_data, test_batch_labels) in enumerate(test_loader):\n",
    "                    test_batch_data, test_batch_labels = test_batch_data.to(device), test_batch_labels.to(device)\n",
    "\n",
    "                    test_output = model(test_batch_data)\n",
    "\n",
    "                    test_loss = likelihood(test_output, test_batch_labels)\n",
    "\n",
    "                    running_test_loss += test_loss.item()\n",
    "\n",
    "                running_test_loss /= m\n",
    "\n",
    "                tepoch.set_postfix(loss=loss.item(), test_loss=running_test_loss)\n",
    "                model.train()\n",
    "                eval_time += time.time() - et\n",
    "\n",
    "        epoch_time = time.time() - st - eval_time\n",
    "        tepoch.set_postfix(loss=running_loss / n, test_loss=running_test_loss, epoch_time=epoch_time)\n",
    "\n",
    "        training_loss_FishLeg.append(running_loss / n)\n",
    "        testing_loss_FishLeg.append(running_test_loss)\n"
   ]
  },
  {
   "cell_type": "markdown",
   "metadata": {},
   "source": [
    "### Results"
   ]
  },
  {
   "cell_type": "code",
   "execution_count": 21,
   "metadata": {},
   "outputs": [
    {
     "data": {
      "image/png": "[encoded data removed]",
      "text/plain": [
       "<Figure size 1000x500 with 2 Axes>"
      ]
     },
     "metadata": {},
     "output_type": "display_data"
    }
   ],
   "source": [
    "import json\n",
    "import matplotlib.pyplot as plt\n",
    "\n",
    "data_dict = {\n",
    "    \"training_loss_FishLeg\": training_loss_FishLeg,\n",
    "    \"testing_loss_FishLeg\": testing_loss_FishLeg\n",
    "}\n",
    "\n",
    "with open('loss_data_FishLeg.json', 'w') as f:\n",
    "    json.dump(data_dict, f)\n",
    "\n",
    "# Retrieve data from the JSON file\n",
    "with open('loss_data_FishLeg.json', 'r') as f:\n",
    "    loaded_data = json.load(f)\n",
    "\n",
    "# Plot the data\n",
    "plt.figure(figsize=(10, 5))\n",
    "\n",
    "# Plot training loss\n",
    "plt.subplot(1, 2, 1)\n",
    "plt.plot(loaded_data['training_loss_FishLeg'], label='Training Loss')\n",
    "plt.title('Training Loss')\n",
    "plt.xlabel('Epoch')\n",
    "plt.ylabel('Loss')\n",
    "plt.legend()\n",
    "\n",
    "# Plot testing loss\n",
    "plt.subplot(1, 2, 2)\n",
    "plt.plot(loaded_data['testing_loss_FishLeg'], label='Testing Loss', color='red')\n",
    "plt.title('Testing Loss')\n",
    "plt.xlabel('Epoch')\n",
    "plt.ylabel('Loss')\n",
    "plt.legend()\n",
    "\n",
    "# Show plots\n",
    "plt.tight_layout()\n",
    "plt.show()\n"
   ]
  },
  {
   "cell_type": "code",
   "execution_count": null,
   "metadata": {},
   "outputs": [],
   "source": []
  }
 ],
 "metadata": {
  "kernelspec": {
   "display_name": ".NLP_venv",
   "language": "python",
   "name": "python3"
  },
  "language_info": {
   "codemirror_mode": {
    "name": "ipython",
    "version": 3
   },
   "file_extension": ".py",
   "mimetype": "text/x-python",
   "name": "python",
   "nbconvert_exporter": "python",
   "pygments_lexer": "ipython3",
   "version": "3.10.10"
  }
 },
 "nbformat": 4,
 "nbformat_minor": 2
}
