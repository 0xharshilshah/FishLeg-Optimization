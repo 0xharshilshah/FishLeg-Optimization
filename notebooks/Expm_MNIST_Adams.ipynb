{
 "cells": [
  {
   "cell_type": "markdown",
   "metadata": {},
   "source": [
    "### Imports"
   ]
  },
  {
   "cell_type": "code",
   "execution_count": 10,
   "metadata": {},
   "outputs": [],
   "source": [
    "import torch\n",
    "import torch.nn as nn\n",
    "import numpy as np\n",
    "from tqdm import tqdm\n",
    "\n",
    "import time\n",
    "import os\n",
    "import sys\n",
    "import matplotlib.pyplot as plt\n",
    "import torch.optim as optim\n",
    "from datetime import datetime\n",
    "from torch.utils.tensorboard import SummaryWriter\n",
    "torch.set_default_dtype(torch.float32)\n",
    "sys.path.append(\"..\")\n",
    "\n",
    "from utils.data_utils import read_data_sets\n",
    "from optim.FishLeg import FISH_LIKELIHOODS\n",
    "os.environ[\"CUDA_VISIBLE_DEVICES\"] = \"1\"\n",
    "\n",
    "torch.backends.cudnn.benchmark = False\n",
    "torch.backends.cudnn.deterministic = True"
   ]
  },
  {
   "cell_type": "markdown",
   "metadata": {},
   "source": [
    "### Device"
   ]
  },
  {
   "cell_type": "code",
   "execution_count": 11,
   "metadata": {},
   "outputs": [
    {
     "name": "stdout",
     "output_type": "stream",
     "text": [
      "cpu\n"
     ]
    }
   ],
   "source": [
    "device = torch.device(\"cuda\" if torch.cuda.is_available() else \"cpu\")\n",
    "print(device)"
   ]
  },
  {
   "cell_type": "markdown",
   "metadata": {},
   "source": [
    "### MNIST Dataset"
   ]
  },
  {
   "cell_type": "code",
   "execution_count": 12,
   "metadata": {},
   "outputs": [
    {
     "name": "stdout",
     "output_type": "stream",
     "text": [
      "Begin loading data for MNIST\n",
      "Data read from ./data/data/MNIST_data/train-images-idx3-ubyte.gz\n",
      "Extracting ./data/data/MNIST_data/train-images-idx3-ubyte.gz\n"
     ]
    },
    {
     "name": "stdout",
     "output_type": "stream",
     "text": [
      "Extracting ./data/data/MNIST_data/t10k-images-idx3-ubyte.gz\n",
      "Data read from ./data/data/MNIST_data/train-labels-idx1-ubyte.gz\n",
      "Extracting ./data/data/MNIST_data/train-labels-idx1-ubyte.gz\n",
      "Extracting ./data/data/MNIST_data/t10k-labels-idx1-ubyte.gz\n",
      "Succesfully loaded MNIST dataset.\n"
     ]
    }
   ],
   "source": [
    "\n",
    "dataset = read_data_sets(\"MNIST\", \"./data/\", if_autoencoder=True)\n",
    "\n",
    "train_dataset = dataset.train\n",
    "test_dataset = dataset.test"
   ]
  },
  {
   "cell_type": "markdown",
   "metadata": {},
   "source": [
    "#### Data Preparation"
   ]
  },
  {
   "cell_type": "code",
   "execution_count": 13,
   "metadata": {},
   "outputs": [],
   "source": [
    "batch_size = 100\n",
    "\n",
    "# For training θ \n",
    "train_loader = torch.utils.data.DataLoader(train_dataset, batch_size=batch_size, shuffle=True)\n",
    " \n",
    "# For training λ (auxiliary parameter)\n",
    "aux_loader = torch.utils.data.DataLoader(train_dataset, shuffle=True, batch_size=batch_size)\n",
    "\n",
    "# for testing\n",
    "test_loader = torch.utils.data.DataLoader(test_dataset, batch_size=1000, shuffle=False)"
   ]
  },
  {
   "cell_type": "markdown",
   "metadata": {},
   "source": [
    "### NN"
   ]
  },
  {
   "cell_type": "code",
   "execution_count": 14,
   "metadata": {},
   "outputs": [],
   "source": [
    "model = nn.Sequential(\n",
    "    nn.Linear(784, 1000, dtype=torch.float32),\n",
    "    nn.ReLU(),\n",
    "    nn.Linear(1000, 500, dtype=torch.float32),\n",
    "    nn.ReLU(),\n",
    "    nn.Linear(500, 250, dtype=torch.float32),\n",
    "    nn.ReLU(),\n",
    "    nn.Linear(250, 30, dtype=torch.float32),\n",
    "    nn.Linear(30, 250, dtype=torch.float32),\n",
    "    nn.ReLU(),\n",
    "    nn.Linear(250, 500, dtype=torch.float32),\n",
    "    nn.ReLU(),\n",
    "    nn.Linear(500, 1000, dtype=torch.float32),\n",
    "    nn.ReLU(),\n",
    "    nn.Linear(1000, 784, dtype=torch.float32),\n",
    ")\n",
    "\n",
    "model = model.to(device)"
   ]
  },
  {
   "cell_type": "markdown",
   "metadata": {},
   "source": [
    "### Loss"
   ]
  },
  {
   "cell_type": "code",
   "execution_count": 17,
   "metadata": {},
   "outputs": [],
   "source": [
    "likelihood = FISH_LIKELIHOODS[\"bernoulli\"](device=device)"
   ]
  },
  {
   "cell_type": "markdown",
   "metadata": {},
   "source": [
    "## Adams"
   ]
  },
  {
   "cell_type": "markdown",
   "metadata": {},
   "source": [
    "#### Optimizer"
   ]
  },
  {
   "cell_type": "code",
   "execution_count": 18,
   "metadata": {},
   "outputs": [],
   "source": [
    "lr = 0.001\n",
    "# betas = (0.7, 0.9)\n",
    "weight_decay = 1e-5\n",
    "# eps = 1e-8\n",
    "\n",
    "\n",
    "opt = optim.Adam(\n",
    "    model.parameters(),\n",
    "    lr=lr,\n",
    "    # betas=betas,\n",
    "    weight_decay=weight_decay,\n",
    "    # eps=eps,\n",
    ")"
   ]
  },
  {
   "cell_type": "markdown",
   "metadata": {},
   "source": [
    "### Training"
   ]
  },
  {
   "cell_type": "code",
   "execution_count": null,
   "metadata": {},
   "outputs": [],
   "source": [
    "epochs = 100\n",
    "\n",
    "st = time.time()\n",
    "eval_time = 0\n",
    "\n",
    "training_loss_Adams = []\n",
    "testing_loss_Adams = []\n",
    "\n",
    "for epoch in range(1, epochs + 1):\n",
    "    with tqdm(train_loader, unit=\"batch\") as tepoch:\n",
    "        running_loss = 0\n",
    "        for n, (batch_data, batch_labels) in enumerate(tepoch, start=1):\n",
    "            tepoch.set_description(f\"Epoch {epoch}\")\n",
    "\n",
    "            batch_data, batch_labels = batch_data.to(device), batch_labels.to(device)\n",
    "\n",
    "            opt.zero_grad()\n",
    "            output = model(batch_data)\n",
    "\n",
    "            loss = likelihood(output, batch_labels)\n",
    "\n",
    "            running_loss += loss.item()\n",
    "\n",
    "            loss.backward()\n",
    "            opt.step()\n",
    "\n",
    "            et = time.time()\n",
    "            if n % 50 == 0:\n",
    "                model.eval()\n",
    "\n",
    "                running_test_loss = 0\n",
    "\n",
    "                for m, (test_batch_data, test_batch_labels) in enumerate(test_loader):\n",
    "                    test_batch_data, test_batch_labels = test_batch_data.to(device), test_batch_labels.to(device)\n",
    "\n",
    "                    test_output = model(test_batch_data)\n",
    "\n",
    "                    test_loss = likelihood(test_output, test_batch_labels)\n",
    "\n",
    "                    running_test_loss += test_loss.item()\n",
    "\n",
    "                running_test_loss /= m\n",
    "\n",
    "                tepoch.set_postfix(loss=loss.item(), test_loss=running_test_loss)\n",
    "                model.train()\n",
    "                eval_time += time.time() - et\n",
    "\n",
    "        epoch_time = time.time() - st - eval_time\n",
    "        tepoch.set_postfix(loss=running_loss / n, test_loss=running_test_loss, epoch_time=epoch_time)\n",
    "\n",
    "        training_loss_Adams.append(running_loss / n)\n",
    "        testing_loss_Adams.append(running_test_loss)\n"
   ]
  },
  {
   "cell_type": "markdown",
   "metadata": {},
   "source": [
    "### Results"
   ]
  },
  {
   "cell_type": "code",
   "execution_count": 20,
   "metadata": {},
   "outputs": [
    {
     "data": {
      "image/png": "[encoded data removed]",
      "text/plain": [
       "<Figure size 1000x500 with 2 Axes>"
      ]
     },
     "metadata": {},
     "output_type": "display_data"
    }
   ],
   "source": [
    "import json\n",
    "import matplotlib.pyplot as plt\n",
    "\n",
    "# data_dict = {\n",
    "#     \"training_loss_FishLeg\": training_loss_ADAMS,\n",
    "#     \"testing_loss_FishLeg\": testing_loss_ADAMS\n",
    "# }\n",
    "\n",
    "# with open('loss_data_FishLeg.json', 'w') as f:\n",
    "#     json.dump(data_dict, f)\n",
    "\n",
    "# Retrieve data from the JSON file\n",
    "with open('loss_data_ADAMS.json', 'r') as f:\n",
    "    loaded_data = json.load(f)\n",
    "\n",
    "# Plot the data\n",
    "plt.figure(figsize=(10, 5))\n",
    "\n",
    "# Plot training loss\n",
    "plt.subplot(1, 2, 1)\n",
    "plt.plot(loaded_data['training_loss_ADAMS'], label='Training Loss')\n",
    "plt.title('Training Loss')\n",
    "plt.xlabel('Epoch')\n",
    "plt.ylabel('Loss')\n",
    "plt.legend()\n",
    "\n",
    "# Plot testing loss\n",
    "plt.subplot(1, 2, 2)\n",
    "plt.plot(loaded_data['testing_loss_ADAMS'], label='Testing Loss', color='red')\n",
    "plt.title('Testing Loss')\n",
    "plt.xlabel('Epoch')\n",
    "plt.ylabel('Loss')\n",
    "plt.legend()\n",
    "\n",
    "# Show plots\n",
    "plt.tight_layout()\n",
    "plt.show()\n"
   ]
  },
  {
   "cell_type": "code",
   "execution_count": 7,
   "metadata": {},
   "outputs": [
    {
     "name": "stdout",
     "output_type": "stream",
     "text": [
      "/teamspace/studios/this_studio\n"
     ]
    }
   ],
   "source": [
    "!pwd"
   ]
  },
  {
   "cell_type": "code",
   "execution_count": 8,
   "metadata": {},
   "outputs": [
    {
     "name": "stdout",
     "output_type": "stream",
     "text": [
      "Expm.ipynb  data\t\t  main.py    optim\t       runs\n",
      "README.md   loss_data_ADAMS.json  notebooks  requirements.txt  utils\n"
     ]
    }
   ],
   "source": [
    "!ls"
   ]
  },
  {
   "cell_type": "code",
   "execution_count": null,
   "metadata": {},
   "outputs": [],
   "source": []
  }
 ],
 "metadata": {
  "kernelspec": {
   "display_name": ".NLP_venv",
   "language": "python",
   "name": "python3"
  },
  "language_info": {
   "codemirror_mode": {
    "name": "ipython",
    "version": 3
   },
   "file_extension": ".py",
   "mimetype": "text/x-python",
   "name": "python",
   "nbconvert_exporter": "python",
   "pygments_lexer": "ipython3",
   "version": "3.10.10"
  }
 },
 "nbformat": 4,
 "nbformat_minor": 2
}
