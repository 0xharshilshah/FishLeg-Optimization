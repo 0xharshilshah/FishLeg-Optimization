{
 "cells": [
  {
   "cell_type": "markdown",
   "metadata": {},
   "source": [
    "### Imports"
   ]
  },
  {
   "cell_type": "code",
   "execution_count": 4,
   "metadata": {},
   "outputs": [],
   "source": [
    "import torch\n",
    "import torch.nn as nn\n",
    "import numpy as np\n",
    "from tqdm import tqdm\n",
    "\n",
    "import time\n",
    "import os\n",
    "import sys\n",
    "import matplotlib.pyplot as plt\n",
    "import torch.optim as optim\n",
    "from datetime import datetime\n",
    "from torch.utils.tensorboard import SummaryWriter\n",
    "torch.set_default_dtype(torch.float32)\n",
    "sys.path.append(\"..\")\n",
    "\n",
    "from utils.data_utils import read_data_sets\n",
    "from optim.FishLeg import FishLeg, FISH_LIKELIHOODS, initialise_FishModel\n",
    "os.environ[\"CUDA_VISIBLE_DEVICES\"] = \"1\"\n",
    "\n",
    "torch.backends.cudnn.benchmark = False\n",
    "torch.backends.cudnn.deterministic = True"
   ]
  },
  {
   "cell_type": "markdown",
   "metadata": {},
   "source": [
    "### Device"
   ]
  },
  {
   "cell_type": "code",
   "execution_count": 5,
   "metadata": {},
   "outputs": [
    {
     "name": "stdout",
     "output_type": "stream",
     "text": [
      "cpu\n"
     ]
    }
   ],
   "source": [
    "device = torch.device(\"cuda\" if torch.cuda.is_available() else \"cpu\")\n",
    "print(device)"
   ]
  },
  {
   "cell_type": "markdown",
   "metadata": {},
   "source": [
    "### MNIST Dataset"
   ]
  },
  {
   "cell_type": "code",
   "execution_count": 6,
   "metadata": {},
   "outputs": [
    {
     "name": "stdout",
     "output_type": "stream",
     "text": [
      "Begin loading data for MNIST\n",
      "Data read from ./data/data/MNIST_data/train-images-idx3-ubyte.gz\n",
      "Extracting ./data/data/MNIST_data/train-images-idx3-ubyte.gz\n",
      "Extracting ./data/data/MNIST_data/t10k-images-idx3-ubyte.gz\n",
      "Data read from ./data/data/MNIST_data/train-labels-idx1-ubyte.gz\n",
      "Extracting ./data/data/MNIST_data/train-labels-idx1-ubyte.gz\n"
     ]
    },
    {
     "name": "stdout",
     "output_type": "stream",
     "text": [
      "Extracting ./data/data/MNIST_data/t10k-labels-idx1-ubyte.gz\n",
      "Succesfully loaded MNIST dataset.\n"
     ]
    }
   ],
   "source": [
    "\n",
    "dataset = read_data_sets(\"MNIST\", \"./data/\", if_autoencoder=True)\n",
    "\n",
    "train_dataset = dataset.train\n",
    "test_dataset = dataset.test"
   ]
  },
  {
   "cell_type": "markdown",
   "metadata": {},
   "source": [
    "#### Data Preparation"
   ]
  },
  {
   "cell_type": "code",
   "execution_count": 7,
   "metadata": {},
   "outputs": [],
   "source": [
    "batch_size = 100\n",
    "\n",
    "# For training θ \n",
    "train_loader = torch.utils.data.DataLoader(train_dataset, batch_size=batch_size, shuffle=True)\n",
    " \n",
    "# For training λ (auxiliary parameter)\n",
    "aux_loader = torch.utils.data.DataLoader(train_dataset, shuffle=True, batch_size=batch_size)\n",
    "\n",
    "# for testing\n",
    "test_loader = torch.utils.data.DataLoader(test_dataset, batch_size=1000, shuffle=False)"
   ]
  },
  {
   "cell_type": "markdown",
   "metadata": {},
   "source": [
    "### NN"
   ]
  },
  {
   "cell_type": "code",
   "execution_count": 8,
   "metadata": {},
   "outputs": [],
   "source": [
    "model = nn.Sequential(\n",
    "    nn.Linear(784, 1000, dtype=torch.float32),\n",
    "    nn.ReLU(),\n",
    "    nn.Linear(1000, 500, dtype=torch.float32),\n",
    "    nn.ReLU(),\n",
    "    nn.Linear(500, 250, dtype=torch.float32),\n",
    "    nn.ReLU(),\n",
    "    nn.Linear(250, 30, dtype=torch.float32),\n",
    "    nn.Linear(30, 250, dtype=torch.float32),\n",
    "    nn.ReLU(),\n",
    "    nn.Linear(250, 500, dtype=torch.float32),\n",
    "    nn.ReLU(),\n",
    "    nn.Linear(500, 1000, dtype=torch.float32),\n",
    "    nn.ReLU(),\n",
    "    nn.Linear(1000, 784, dtype=torch.float32),\n",
    ")\n",
    "\n",
    "model = model.to(device)"
   ]
  },
  {
   "cell_type": "markdown",
   "metadata": {},
   "source": [
    "### Loss"
   ]
  },
  {
   "cell_type": "code",
   "execution_count": 9,
   "metadata": {},
   "outputs": [],
   "source": [
    "likelihood = FISH_LIKELIHOODS[\"bernoulli\"](device=device)"
   ]
  },
  {
   "cell_type": "markdown",
   "metadata": {},
   "source": [
    "## SGDm"
   ]
  },
  {
   "cell_type": "markdown",
   "metadata": {},
   "source": [
    "#### Optimizer"
   ]
  },
  {
   "cell_type": "code",
   "execution_count": 10,
   "metadata": {},
   "outputs": [],
   "source": [
    "lr = 0.001\n",
    "momentum=0.9"
   ]
  },
  {
   "cell_type": "code",
   "execution_count": 11,
   "metadata": {},
   "outputs": [],
   "source": [
    "opt = optim.SGD(model.parameters(), lr=lr, momentum=momentum)"
   ]
  },
  {
   "cell_type": "markdown",
   "metadata": {},
   "source": [
    "### Training"
   ]
  },
  {
   "cell_type": "code",
   "execution_count": 12,
   "metadata": {},
   "outputs": [
    {
     "name": "stderr",
     "output_type": "stream",
     "text": [
      "Epoch 1: 100%|██████████| 600/600 [00:18<00:00, 32.87batch/s, loss=180, test_loss=194]\n",
      "Epoch 2: 100%|██████████| 600/600 [00:18<00:00, 31.62batch/s, loss=127, test_loss=151]\n",
      "Epoch 3: 100%|██████████| 600/600 [00:19<00:00, 30.91batch/s, loss=120, test_loss=127]\n",
      "Epoch 4: 100%|██████████| 600/600 [00:19<00:00, 31.51batch/s, loss=101, test_loss=116]\n",
      "Epoch 5: 100%|██████████| 600/600 [00:19<00:00, 31.54batch/s, loss=97.3, test_loss=110]\n",
      "Epoch 6: 100%|██████████| 600/600 [00:18<00:00, 31.93batch/s, loss=93.6, test_loss=105]\n",
      "Epoch 7: 100%|██████████| 600/600 [00:18<00:00, 31.74batch/s, loss=96.7, test_loss=102]\n",
      "Epoch 8: 100%|██████████| 600/600 [00:18<00:00, 31.86batch/s, loss=88.3, test_loss=99.3]\n",
      "Epoch 9: 100%|██████████| 600/600 [00:18<00:00, 31.80batch/s, loss=86.6, test_loss=96.2]\n",
      "Epoch 10: 100%|██████████| 600/600 [00:18<00:00, 31.58batch/s, loss=86.9, test_loss=93.3]\n",
      "Epoch 11: 100%|██████████| 600/600 [00:18<00:00, 31.86batch/s, loss=79.5, test_loss=90.8]\n",
      "Epoch 12: 100%|██████████| 600/600 [00:19<00:00, 31.02batch/s, loss=75.5, test_loss=88.3]\n",
      "Epoch 13: 100%|██████████| 600/600 [00:18<00:00, 32.08batch/s, loss=79.4, test_loss=87.5]\n",
      "Epoch 14: 100%|██████████| 600/600 [00:18<00:00, 31.65batch/s, loss=74.9, test_loss=85.9]\n",
      "Epoch 15: 100%|██████████| 600/600 [00:19<00:00, 31.43batch/s, loss=78.4, test_loss=85]  \n",
      "Epoch 16: 100%|██████████| 600/600 [00:18<00:00, 32.01batch/s, loss=73.3, test_loss=84.2]\n",
      "Epoch 17: 100%|██████████| 600/600 [00:18<00:00, 31.70batch/s, loss=74.5, test_loss=83.3]\n",
      "Epoch 18: 100%|██████████| 600/600 [00:18<00:00, 32.11batch/s, loss=76.3, test_loss=82.3]\n",
      "Epoch 19: 100%|██████████| 600/600 [00:18<00:00, 31.64batch/s, loss=70, test_loss=81.7]  \n",
      "Epoch 20: 100%|██████████| 600/600 [00:18<00:00, 31.77batch/s, loss=72.6, test_loss=80.9]\n",
      "Epoch 21: 100%|██████████| 600/600 [00:18<00:00, 33.17batch/s, loss=72.3, test_loss=80.1]\n",
      "Epoch 22: 100%|██████████| 600/600 [00:18<00:00, 32.23batch/s, loss=69.5, test_loss=79.1]\n",
      "Epoch 23: 100%|██████████| 600/600 [00:18<00:00, 32.19batch/s, loss=71.1, test_loss=78.7]\n",
      "Epoch 24: 100%|██████████| 600/600 [00:18<00:00, 32.48batch/s, loss=68.4, test_loss=78.1]\n",
      "Epoch 25: 100%|██████████| 600/600 [00:18<00:00, 33.04batch/s, loss=67.5, test_loss=77.4]\n",
      "Epoch 26: 100%|██████████| 600/600 [00:18<00:00, 32.74batch/s, loss=71.4, test_loss=76.9]\n",
      "Epoch 27: 100%|██████████| 600/600 [00:18<00:00, 33.06batch/s, loss=68.6, test_loss=76.5]\n",
      "Epoch 28: 100%|██████████| 600/600 [00:18<00:00, 32.98batch/s, loss=67, test_loss=75.9]  \n",
      "Epoch 29: 100%|██████████| 600/600 [00:18<00:00, 32.88batch/s, loss=65.5, test_loss=75.7]\n",
      "Epoch 30: 100%|██████████| 600/600 [00:18<00:00, 32.50batch/s, loss=69.4, test_loss=75.1]\n",
      "Epoch 31: 100%|██████████| 600/600 [00:18<00:00, 33.22batch/s, loss=65.5, test_loss=75]  \n",
      "Epoch 32: 100%|██████████| 600/600 [00:18<00:00, 32.77batch/s, loss=65.6, test_loss=75.1]\n",
      "Epoch 33: 100%|██████████| 600/600 [00:18<00:00, 31.70batch/s, loss=65.1, test_loss=74.5]\n",
      "Epoch 34: 100%|██████████| 600/600 [00:18<00:00, 31.62batch/s, loss=65.2, test_loss=74.4]\n",
      "Epoch 35: 100%|██████████| 600/600 [00:18<00:00, 32.27batch/s, loss=64.4, test_loss=74.2]\n",
      "Epoch 36: 100%|██████████| 600/600 [00:18<00:00, 32.27batch/s, loss=64, test_loss=74]    \n",
      "Epoch 37: 100%|██████████| 600/600 [00:18<00:00, 32.32batch/s, loss=64.2, test_loss=73.6]\n",
      "Epoch 38: 100%|██████████| 600/600 [00:18<00:00, 32.16batch/s, loss=64.1, test_loss=73.3]\n",
      "Epoch 39: 100%|██████████| 600/600 [00:18<00:00, 32.35batch/s, loss=62.5, test_loss=73.4]\n",
      "Epoch 40: 100%|██████████| 600/600 [00:18<00:00, 32.32batch/s, loss=64.4, test_loss=73.1]\n",
      "Epoch 41: 100%|██████████| 600/600 [00:18<00:00, 31.76batch/s, loss=65, test_loss=73]    \n",
      "Epoch 42: 100%|██████████| 600/600 [00:18<00:00, 31.98batch/s, loss=65.2, test_loss=73]  \n",
      "Epoch 43: 100%|██████████| 600/600 [00:18<00:00, 31.62batch/s, loss=62.6, test_loss=72.7]\n",
      "Epoch 44: 100%|██████████| 600/600 [00:18<00:00, 32.56batch/s, loss=62.4, test_loss=72.6]\n",
      "Epoch 45: 100%|██████████| 600/600 [00:18<00:00, 32.25batch/s, loss=63.2, test_loss=72.4]\n",
      "Epoch 46: 100%|██████████| 600/600 [00:18<00:00, 32.36batch/s, loss=63.2, test_loss=72.2]\n",
      "Epoch 47: 100%|██████████| 600/600 [00:18<00:00, 32.47batch/s, loss=63.3, test_loss=72.2]\n",
      "Epoch 48: 100%|██████████| 600/600 [00:18<00:00, 32.51batch/s, loss=62.5, test_loss=72.1]\n",
      "Epoch 49: 100%|██████████| 600/600 [00:18<00:00, 32.11batch/s, loss=57.2, test_loss=72]  \n",
      "Epoch 50: 100%|██████████| 600/600 [00:18<00:00, 32.72batch/s, loss=60.1, test_loss=71.9]\n",
      "Epoch 51: 100%|██████████| 600/600 [00:18<00:00, 32.32batch/s, loss=63.8, test_loss=71.8]\n",
      "Epoch 52: 100%|██████████| 600/600 [00:18<00:00, 32.02batch/s, loss=61.8, test_loss=71.6]\n",
      "Epoch 53: 100%|██████████| 600/600 [00:18<00:00, 31.94batch/s, loss=60.4, test_loss=71.4]\n",
      "Epoch 54: 100%|██████████| 600/600 [00:18<00:00, 31.90batch/s, loss=60.6, test_loss=71.4]\n",
      "Epoch 55: 100%|██████████| 600/600 [00:18<00:00, 32.25batch/s, loss=63.3, test_loss=71.4]\n",
      "Epoch 56: 100%|██████████| 600/600 [00:18<00:00, 32.18batch/s, loss=62.5, test_loss=71.3]\n",
      "Epoch 57: 100%|██████████| 600/600 [00:18<00:00, 32.14batch/s, loss=59.7, test_loss=71.3]\n",
      "Epoch 58: 100%|██████████| 600/600 [00:18<00:00, 32.24batch/s, loss=58.7, test_loss=71.2]\n",
      "Epoch 59: 100%|██████████| 600/600 [00:18<00:00, 32.03batch/s, loss=59.8, test_loss=71.2]\n",
      "Epoch 60: 100%|██████████| 600/600 [00:18<00:00, 32.15batch/s, loss=57.7, test_loss=71.1]\n",
      "Epoch 61: 100%|██████████| 600/600 [00:18<00:00, 31.97batch/s, loss=61.1, test_loss=71]  \n",
      "Epoch 62: 100%|██████████| 600/600 [00:18<00:00, 31.89batch/s, loss=59.3, test_loss=70.9]\n",
      "Epoch 63: 100%|██████████| 600/600 [00:18<00:00, 31.92batch/s, loss=60.4, test_loss=70.8]\n",
      "Epoch 64: 100%|██████████| 600/600 [00:18<00:00, 32.22batch/s, loss=63.3, test_loss=70.8]\n",
      "Epoch 65: 100%|██████████| 600/600 [00:18<00:00, 32.17batch/s, loss=60.2, test_loss=70.8]\n",
      "Epoch 66: 100%|██████████| 600/600 [00:18<00:00, 31.79batch/s, loss=60, test_loss=70.7]  \n",
      "Epoch 67: 100%|██████████| 600/600 [00:18<00:00, 32.34batch/s, loss=59.5, test_loss=70.7]\n",
      "Epoch 68: 100%|██████████| 600/600 [00:18<00:00, 32.11batch/s, loss=58.7, test_loss=70.5]\n",
      "Epoch 69: 100%|██████████| 600/600 [00:18<00:00, 31.73batch/s, loss=60.9, test_loss=70.5]\n",
      "Epoch 70: 100%|██████████| 600/600 [00:18<00:00, 31.93batch/s, loss=59.7, test_loss=70.5]\n",
      "Epoch 71: 100%|██████████| 600/600 [00:18<00:00, 31.99batch/s, loss=58.6, test_loss=70.5]\n",
      "Epoch 72: 100%|██████████| 600/600 [00:19<00:00, 31.41batch/s, loss=61.1, test_loss=70.4]\n",
      "Epoch 73: 100%|██████████| 600/600 [00:18<00:00, 31.84batch/s, loss=57.5, test_loss=70.5]\n",
      "Epoch 74: 100%|██████████| 600/600 [00:18<00:00, 32.38batch/s, loss=58.9, test_loss=70.3]\n",
      "Epoch 75: 100%|██████████| 600/600 [00:18<00:00, 32.15batch/s, loss=58.9, test_loss=70.2]\n",
      "Epoch 76: 100%|██████████| 600/600 [00:18<00:00, 32.06batch/s, loss=61.7, test_loss=70.1]\n",
      "Epoch 77: 100%|██████████| 600/600 [00:18<00:00, 32.48batch/s, loss=59.6, test_loss=70.3]\n",
      "Epoch 78: 100%|██████████| 600/600 [00:18<00:00, 32.15batch/s, loss=58.2, test_loss=70.1]\n",
      "Epoch 79: 100%|██████████| 600/600 [00:18<00:00, 32.43batch/s, loss=59.8, test_loss=70.1]\n",
      "Epoch 80: 100%|██████████| 600/600 [00:18<00:00, 32.18batch/s, loss=57.4, test_loss=70.1]\n",
      "Epoch 81: 100%|██████████| 600/600 [00:18<00:00, 32.43batch/s, loss=59.5, test_loss=70]  \n",
      "Epoch 82: 100%|██████████| 600/600 [00:18<00:00, 32.44batch/s, loss=55.2, test_loss=70.1]\n",
      "Epoch 83: 100%|██████████| 600/600 [00:18<00:00, 32.57batch/s, loss=59, test_loss=70.1]  \n",
      "Epoch 84: 100%|██████████| 600/600 [00:18<00:00, 32.31batch/s, loss=59.3, test_loss=69.9]\n",
      "Epoch 85: 100%|██████████| 600/600 [00:18<00:00, 32.04batch/s, loss=57.9, test_loss=69.9]\n",
      "Epoch 86: 100%|██████████| 600/600 [00:18<00:00, 32.23batch/s, loss=58.9, test_loss=69.9]\n",
      "Epoch 87: 100%|██████████| 600/600 [00:18<00:00, 32.56batch/s, loss=60, test_loss=69.8]  \n",
      "Epoch 88: 100%|██████████| 600/600 [00:18<00:00, 32.85batch/s, loss=60, test_loss=69.8]  \n",
      "Epoch 89: 100%|██████████| 600/600 [00:18<00:00, 33.33batch/s, loss=55.7, test_loss=69.9]\n",
      "Epoch 90: 100%|██████████| 600/600 [00:18<00:00, 33.28batch/s, loss=59.1, test_loss=69.7]\n",
      "Epoch 91: 100%|██████████| 600/600 [00:18<00:00, 32.82batch/s, loss=55.3, test_loss=69.6]\n",
      "Epoch 92: 100%|██████████| 600/600 [00:17<00:00, 33.35batch/s, loss=57.1, test_loss=69.8]\n",
      "Epoch 93: 100%|██████████| 600/600 [00:18<00:00, 33.20batch/s, loss=57.7, test_loss=69.7]\n",
      "Epoch 94: 100%|██████████| 600/600 [00:18<00:00, 33.03batch/s, loss=53.3, test_loss=69.7]\n",
      "Epoch 95: 100%|██████████| 600/600 [00:18<00:00, 33.22batch/s, loss=61.3, test_loss=69.6]\n",
      "Epoch 96: 100%|██████████| 600/600 [00:18<00:00, 33.16batch/s, loss=58.3, test_loss=69.7]\n",
      "Epoch 97: 100%|██████████| 600/600 [00:18<00:00, 32.18batch/s, loss=55.4, test_loss=69.7]\n",
      "Epoch 98: 100%|██████████| 600/600 [00:18<00:00, 32.72batch/s, loss=59.1, test_loss=69.6]\n",
      "Epoch 99: 100%|██████████| 600/600 [00:18<00:00, 32.71batch/s, loss=58.4, test_loss=69.5]\n",
      "Epoch 100: 100%|██████████| 600/600 [00:18<00:00, 32.22batch/s, loss=58.2, test_loss=69.6]\n"
     ]
    }
   ],
   "source": [
    "epochs = 100\n",
    "\n",
    "st = time.time()\n",
    "eval_time = 0\n",
    "\n",
    "training_loss_SGDm= []\n",
    "testing_loss_SGDm = []\n",
    "\n",
    "for epoch in range(1, epochs + 1):\n",
    "    with tqdm(train_loader, unit=\"batch\") as tepoch:\n",
    "        running_loss = 0\n",
    "        for n, (batch_data, batch_labels) in enumerate(tepoch, start=1):\n",
    "            tepoch.set_description(f\"Epoch {epoch}\")\n",
    "\n",
    "            batch_data, batch_labels = batch_data.to(device), batch_labels.to(device)\n",
    "\n",
    "            opt.zero_grad()\n",
    "            output = model(batch_data)\n",
    "\n",
    "            loss = likelihood(output, batch_labels)\n",
    "\n",
    "            running_loss += loss.item()\n",
    "\n",
    "            loss.backward()\n",
    "            opt.step()\n",
    "\n",
    "            et = time.time()\n",
    "            if n % 50 == 0:\n",
    "                model.eval()\n",
    "\n",
    "                running_test_loss = 0\n",
    "\n",
    "                for m, (test_batch_data, test_batch_labels) in enumerate(test_loader):\n",
    "                    test_batch_data, test_batch_labels = test_batch_data.to(device), test_batch_labels.to(device)\n",
    "\n",
    "                    test_output = model(test_batch_data)\n",
    "\n",
    "                    test_loss = likelihood(test_output, test_batch_labels)\n",
    "\n",
    "                    running_test_loss += test_loss.item()\n",
    "\n",
    "                running_test_loss /= m\n",
    "\n",
    "                tepoch.set_postfix(loss=loss.item(), test_loss=running_test_loss)\n",
    "                model.train()\n",
    "                eval_time += time.time() - et\n",
    "\n",
    "        epoch_time = time.time() - st - eval_time\n",
    "        tepoch.set_postfix(loss=running_loss / n, test_loss=running_test_loss, epoch_time=epoch_time)\n",
    "\n",
    "        training_loss_SGDm.append(running_loss / n)\n",
    "        testing_loss_SGDm.append(running_test_loss)\n"
   ]
  },
  {
   "cell_type": "markdown",
   "metadata": {},
   "source": [
    "### Results"
   ]
  },
  {
   "cell_type": "code",
   "execution_count": 14,
   "metadata": {},
   "outputs": [
    {
     "data": {
      "image/png": "[encoded data removed]",
      "text/plain": [
       "<Figure size 1000x500 with 2 Axes>"
      ]
     },
     "metadata": {},
     "output_type": "display_data"
    }
   ],
   "source": [
    "import json\n",
    "import matplotlib.pyplot as plt\n",
    "\n",
    "data_dict = {\n",
    "    \"training_loss_SGDm\": training_loss_SGDm,\n",
    "    \"testing_loss_SGDm\": testing_loss_SGDm\n",
    "}\n",
    "\n",
    "with open('loss_data_SGDm.json', 'w') as f:\n",
    "    json.dump(data_dict, f)\n",
    "\n",
    "# Retrieve data from the JSON file\n",
    "with open('loss_data_SGDm.json', 'r') as f:\n",
    "    loaded_data = json.load(f)\n",
    "\n",
    "# Plot the data\n",
    "plt.figure(figsize=(10, 5))\n",
    "\n",
    "# Plot training loss\n",
    "plt.subplot(1, 2, 1)\n",
    "plt.plot(loaded_data['training_loss_SGDm'], label='Training Loss')\n",
    "plt.title('Training Loss')\n",
    "plt.xlabel('Epoch')\n",
    "plt.ylabel('Loss')\n",
    "plt.legend()\n",
    "\n",
    "# Plot testing loss\n",
    "plt.subplot(1, 2, 2)\n",
    "plt.plot(loaded_data['testing_loss_SGDm'], label='Testing Loss', color='red')\n",
    "plt.title('Testing Loss')\n",
    "plt.xlabel('Epoch')\n",
    "plt.ylabel('Loss')\n",
    "plt.legend()\n",
    "\n",
    "# Show plots\n",
    "plt.tight_layout()\n",
    "plt.show()\n"
   ]
  },
  {
   "cell_type": "code",
   "execution_count": null,
   "metadata": {},
   "outputs": [],
   "source": []
  }
 ],
 "metadata": {
  "kernelspec": {
   "display_name": ".NLP_venv",
   "language": "python",
   "name": "python3"
  },
  "language_info": {
   "codemirror_mode": {
    "name": "ipython",
    "version": 3
   },
   "file_extension": ".py",
   "mimetype": "text/x-python",
   "name": "python",
   "nbconvert_exporter": "python",
   "pygments_lexer": "ipython3",
   "version": "3.10.10"
  }
 },
 "nbformat": 4,
 "nbformat_minor": 2
}
